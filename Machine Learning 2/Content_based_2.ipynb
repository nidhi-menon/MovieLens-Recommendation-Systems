{
 "cells": [
  {
   "cell_type": "code",
   "execution_count": 1,
   "metadata": {
    "collapsed": true
   },
   "outputs": [],
   "source": [
    "import pandas as pd\n",
    "import numpy as np\n",
    "import matplotlib.pyplot as plt\n",
    "import time\n",
    "import pickle\n",
    "import sys\n",
    "from sklearn.feature_extraction.text import TfidfVectorizer\n",
    "from sklearn.metrics.pairwise import linear_kernel"
   ]
  },
  {
   "cell_type": "code",
   "execution_count": 2,
   "metadata": {
    "collapsed": false
   },
   "outputs": [
    {
     "name": "stdout",
     "output_type": "stream",
     "text": [
      "/Users/snehavenkat/Desktop/BDS/ml-100k\n"
     ]
    }
   ],
   "source": [
    "cd '/Users/snehavenkat/Desktop/BDS/ml-100k' "
   ]
  },
  {
   "cell_type": "code",
   "execution_count": 3,
   "metadata": {
    "collapsed": false
   },
   "outputs": [],
   "source": [
    "# Reading ratings file\n",
    "#ratings = pd.read_csv('ratings.csv', sep='|', encoding='latin-1', usecols=['userId', 'movieId', 'rating', 'timestamp'])\n",
    "ratings = pd.read_csv(\"u.data\",sep='\\t',names=['user_id','movie_id','rating','timestamp'])\n",
    "ratings = ratings[ratings.movie_id != 267]\n",
    "ratings = ratings[ratings.movie_id != 1373]\n",
    "# Reading users file\n",
    "users = pd.read_csv('u.user', sep='|', encoding='latin-1', names=['user_id', 'age_desc', 'gender','occ_desc','zipcode'])\n",
    "# Reading movies file\n",
    "movies = pd.read_csv('movies.csv', sep='$', encoding='latin-1', names=['movie_id', 'title', 'genres'])"
   ]
  },
  {
   "cell_type": "code",
   "execution_count": 4,
   "metadata": {
    "collapsed": true
   },
   "outputs": [],
   "source": [
    "# Break up the big genre string into a string array\n",
    "movies['genres'] = movies['genres'].str.split('|')\n",
    "#print(movies['genres'])\n",
    "# Convert genres to string value\n",
    "movies['genres'] = movies['genres'].fillna(\"\").astype('str')"
   ]
  },
  {
   "cell_type": "code",
   "execution_count": 5,
   "metadata": {
    "collapsed": false
   },
   "outputs": [
    {
     "name": "stdout",
     "output_type": "stream",
     "text": [
      "--- Train time is 0.0516269207001 seconds ---\n"
     ]
    }
   ],
   "source": [
    "#TFIDF calculation\n",
    "train_time = time.time()\n",
    "tf = TfidfVectorizer(analyzer='word',ngram_range=(1, 2),min_df=0, stop_words='english')\n",
    "tfidf_matrix = tf.fit_transform(movies['genres'])\n",
    "# pp = pickle.dumps(tfidf_matrix) #Saving the tf-idf matric\n",
    "# print(sys.getsizeof(pp))\n",
    "cosine_sim = linear_kernel(tfidf_matrix, tfidf_matrix)\n",
    "# pp = pickle.dumps(cosine_sim) #Saving the linear kernel\n",
    "# print(sys.getsizeof(pp))\n",
    "print(\"--- Train time is %s seconds ---\" % (time.time() - train_time))"
   ]
  },
  {
   "cell_type": "code",
   "execution_count": 6,
   "metadata": {
    "collapsed": true
   },
   "outputs": [],
   "source": [
    " # Build a 1-dimensional array with movie titles\n",
    "titles = movies['title']\n",
    "indices = pd.Series(movies.index, index=movies['title'])\n",
    "\n",
    "# Function that get movie recommendations based on the cosine similarity score of movie genres\n",
    "def genre_recommendations(title):\n",
    "    idx = indices[title]\n",
    "    sim_scores = list(enumerate(cosine_sim[idx]))\n",
    "    sim_scores = sorted(sim_scores, key=lambda x: x[1], reverse=True)\n",
    "    sim_scores = sim_scores[1:21]\n",
    "    movie_indices = [i[0] for i in sim_scores]\n",
    "    return titles.iloc[movie_indices]"
   ]
  },
  {
   "cell_type": "code",
   "execution_count": 7,
   "metadata": {
    "collapsed": false
   },
   "outputs": [
    {
     "name": "stdout",
     "output_type": "stream",
     "text": [
      " \n",
      " \n",
      "24                                 Birdcage, The (1996)\n",
      "25                        Brothers McMullen, The (1995)\n",
      "39    To Wong Foo, Thanks for Everything! Julie Newm...\n",
      "40                                 Billy Madison (1995)\n",
      "41                                        Clerks (1994)\n",
      "Name: title, dtype: object\n",
      " \n",
      " \n",
      " \n",
      " \n",
      " \n",
      " \n",
      "284     English Patient, The (1996)\n",
      "481               Casablanca (1942)\n",
      "547                  Rob Roy (1995)\n",
      "1482     Colonel Chabert, Le (1994)\n",
      "1122     Farewell to Arms, A (1932)\n",
      "Name: title, dtype: object\n",
      " \n",
      " \n",
      " \n",
      " \n",
      " \n",
      "257                                        Contact (1997)\n",
      "427                 Day the Earth Stood Still, The (1951)\n",
      "1004    Until the End of the World (Bis ans Ende der W...\n",
      "268                                        Gattaca (1997)\n",
      "238                                       Sneakers (1992)\n",
      "Name: title, dtype: object\n",
      " \n",
      " \n",
      " \n",
      " \n",
      " \n",
      " \n",
      " \n",
      " \n",
      " \n",
      " \n",
      "187    Full Metal Jacket (1987)\n",
      "324            G.I. Jane (1997)\n",
      "513            Boot, Das (1981)\n",
      "649                Glory (1989)\n",
      "801       Heaven & Earth (1993)\n",
      "Name: title, dtype: object\n",
      " \n",
      " \n",
      " \n",
      "--- Test time is 0.0208599567413 seconds ---\n"
     ]
    }
   ],
   "source": [
    "test_time = time.time()\n",
    "user_vector = ratings[ratings.user_id==120] #user id 120\n",
    "max_rating = max(user_vector.rating)\n",
    "for index,row in user_vector.iterrows():\n",
    "    if row['rating']==max_rating.astype(int):\n",
    "        get_movie = movies[movies.movie_id==row[1]]\n",
    "        print(genre_recommendations(str(get_movie.title.iloc[0]))).head(5)#Print top 5 movies\n",
    "    print\" \"\n",
    "print(\"--- Test time is %s seconds ---\" % (time.time() - test_time))"
   ]
  },
  {
   "cell_type": "code",
   "execution_count": null,
   "metadata": {
    "collapsed": true
   },
   "outputs": [],
   "source": []
  }
 ],
 "metadata": {
  "kernelspec": {
   "display_name": "Python 2",
   "language": "python",
   "name": "python2"
  },
  "language_info": {
   "codemirror_mode": {
    "name": "ipython",
    "version": 2
   },
   "file_extension": ".py",
   "mimetype": "text/x-python",
   "name": "python",
   "nbconvert_exporter": "python",
   "pygments_lexer": "ipython2",
   "version": "2.7.11"
  }
 },
 "nbformat": 4,
 "nbformat_minor": 0
}
