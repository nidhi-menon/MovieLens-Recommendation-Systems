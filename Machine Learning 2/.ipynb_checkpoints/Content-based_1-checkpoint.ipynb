{
 "cells": [
  {
   "cell_type": "code",
   "execution_count": 1,
   "metadata": {
    "collapsed": false,
    "scrolled": true
   },
   "outputs": [],
   "source": [
    "#%pylab inline\n",
    "import numpy as np\n",
    "from sklearn.neighbors import NearestNeighbors\n",
    "from evaluator import Evaluator\n",
    "from dataset_handler import DatasetHandler\n",
    "import pandas as pd\n",
    "import time\n",
    "import pickle"
   ]
  },
  {
   "cell_type": "code",
   "execution_count": 2,
   "metadata": {
    "collapsed": false
   },
   "outputs": [
    {
     "name": "stdout",
     "output_type": "stream",
     "text": [
      "/Users/snehavenkat/Desktop/BDS/ml-100k\n"
     ]
    }
   ],
   "source": [
    "cd '/Users/snehavenkat/Desktop/BDS/ml-100k'"
   ]
  },
  {
   "cell_type": "code",
   "execution_count": 3,
   "metadata": {
    "collapsed": false
   },
   "outputs": [],
   "source": [
    "#Data preprocessing - 1\n",
    "items = pd.read_csv(\"u.item\",sep='|',names=['movie_id','movie_title','release_date','video_release_date','IMDb_URL','unknown','Action','Adventure','Animation','Children','Comedy','Crime','Documentary','Drama','Fantasy',\n",
    "              'Film-Noir','Horror','Musical','Mystery','Romance','Sci-Fi',\n",
    "              'Thriller','War','Western']) # movies information\n",
    "genre = pd.read_csv(\"u.genre\",names=['Genre','ID'],sep='|') # movie genre information\n",
    "items = items.drop(['release_date','video_release_date','IMDb_URL','unknown'],axis=1) #Removing unwanted features"
   ]
  },
  {
   "cell_type": "code",
   "execution_count": 4,
   "metadata": {
    "collapsed": false
   },
   "outputs": [],
   "source": [
    "#Data Preprocessing - 2\n",
    "df = pd.DataFrame(index=items.index.values,columns=['movieId','title','genres'])\n",
    "df= df.dropna()\n",
    "l = list(items.columns.values)\n",
    "if 'movie_id' in l:\n",
    "    l.remove('movie_id')\n",
    "if 'movie_title' in l:\n",
    "    l.remove('movie_title')"
   ]
  },
  {
   "cell_type": "code",
   "execution_count": 5,
   "metadata": {
    "collapsed": false
   },
   "outputs": [],
   "source": [
    "i = 1\n",
    "for index, row in items.iterrows():\n",
    "    if row['movie_title'] == 'unknown' or row['movie_title'] == 'Good Morning (1971)':\n",
    "        continue\n",
    "    df.loc[index,'movieId'] = row['movie_id']\n",
    "    i=i+1\n",
    "    df.loc[index,'title'] = row['movie_title']\n",
    "    s=''\n",
    "    for x in l:\n",
    "        if(row[x]==1):\n",
    "            s = s+x+'|'\n",
    "    df.loc[index,'genres'] = s[:-1]"
   ]
  },
  {
   "cell_type": "code",
   "execution_count": 6,
   "metadata": {
    "collapsed": true
   },
   "outputs": [],
   "source": [
    "#Dataframes being created and nan values removed\n",
    "df_1 = df[df['genres'].notnull()].astype(str)\n",
    "df_2 = df_1[df_1['genres'].notnull()]\n",
    "df_new = df_2[df_2['genres'].notnull()]\n",
    "df_new = df_new[~df_new.isin(['NaN', 'NaT', 'nan']).any(axis=1)]\n",
    "df_new = df_new.dropna()\n",
    "df_new.to_csv('movies.csv',sep='$',header=False,index=False)"
   ]
  },
  {
   "cell_type": "code",
   "execution_count": 7,
   "metadata": {
    "collapsed": true
   },
   "outputs": [],
   "source": [
    "#csv files being referenced\n",
    "with open('movies.csv') as infile, open('movies.dat', 'w') as outfile:\n",
    "    for line in infile:\n",
    "        line = line.replace('$', '::')\n",
    "        outfile.write(line)"
   ]
  },
  {
   "cell_type": "code",
   "execution_count": 8,
   "metadata": {
    "collapsed": true
   },
   "outputs": [],
   "source": [
    "dataset100k = \"/Users/snehavenkat/Desktop/BDS/ml-100k\" #Specifying path to data file"
   ]
  },
  {
   "cell_type": "code",
   "execution_count": 9,
   "metadata": {
    "collapsed": false
   },
   "outputs": [],
   "source": [
    "rating = pd.read_csv(\"u.data\",sep='\\t',names=['userId','movieId','rating','timestamp'])\n",
    "rating = rating[rating.movieId != 267]\n",
    "rating = rating[rating.movieId != 1373]\n",
    "rating.to_csv('ratings.csv',sep='|',header=False)"
   ]
  },
  {
   "cell_type": "code",
   "execution_count": 10,
   "metadata": {
    "collapsed": false
   },
   "outputs": [],
   "source": [
    "#csv files being referenced\n",
    "with open('ratings.csv') as infile, open('ratings.dat', 'w') as outfile:\n",
    "    for line in infile:\n",
    "        line = line.replace('|', '::')\n",
    "        outfile.write(line)"
   ]
  },
  {
   "cell_type": "code",
   "execution_count": 11,
   "metadata": {
    "collapsed": false
   },
   "outputs": [],
   "source": [
    "#Two external files used for pre-processing are linked here via imported libraries\n",
    "dataset_handler = DatasetHandler(dataset100k)\n",
    "user_ratings = dataset_handler.load_users_ratings()"
   ]
  },
  {
   "cell_type": "code",
   "execution_count": 12,
   "metadata": {
    "collapsed": true
   },
   "outputs": [],
   "source": [
    "class ContentBasedRecommender(object):\n",
    "    def __init__(self, dataset_handler):\n",
    "        self.dataset_handler = dataset_handler\n",
    "        self.movies_vectors = self.dataset_handler.load_movies()\n",
    "    \n",
    "    def train(self, train_set):\n",
    "        pass\n",
    "    \n",
    "    def top(self, user_profile, topN):\n",
    "        return self._cosineKNN_all_movies(user_profile[0], topN)\n",
    "    \n",
    "    def predict_rating(self, user_profile, movieId):\n",
    "        nearest_watched_movies = self._cosineKNN_movies_subset(user_profile[1].keys(), movieId, 5)\n",
    "        return np.average(np.array([user_profile[1][movie] for movie in nearest_watched_movies]))\n",
    "        \n",
    "    def create_user_profile(self, user_ratings):#user profile being creatied\n",
    "        return (\n",
    "            np.average(\n",
    "                np.array([\n",
    "                    self.movies_vectors[self.dataset_handler.id2index(movie)]#movie genre info\n",
    "                    for (movie, rating) in user_ratings.items()\n",
    "                ]),\n",
    "                weights=np.array(user_ratings.values()),\n",
    "                axis=0\n",
    "            ),\n",
    "            user_ratings#user rating info\n",
    "        )\n",
    "    \n",
    "    def present_user_profile(self, user_profile):\n",
    "        #print(np.argmax(user_profile[0]))\n",
    "        print \"User favourite genre:\", self.dataset_handler.feature_index2genre(np.argmax(user_profile[0]))#ratings\n",
    "        print \"User ratings:\"\n",
    "        for (movieId, rating) in user_profile[1].items():\n",
    "            movie_vector = self.movies_vectors[self.dataset_handler.id2index(movieId)]#genre\n",
    "            print \"{} {}: {}\".format(\n",
    "                self.dataset_handler.id_to_title[movieId],#title\n",
    "                self.dataset_handler.movie_vector2genres(movie_vector),#genre of favourite movie\n",
    "                rating\n",
    "            )\n",
    "    \n",
    "    def present_recommendations(self, recommendations):\n",
    "        print(self.movies_vectors)\n",
    "        print \"Recommended movies:\"\n",
    "        for movieId in recommendations:\n",
    "            movie_vector = self.movies_vectors[self.dataset_handler.id2index(movieId)]\n",
    "            print \"{} {}\".format(\n",
    "                self.dataset_handler.id_to_title[movieId],\n",
    "                self.dataset_handler.movie_vector2genres(movie_vector)\n",
    "            )\n",
    "    \n",
    "    def _cosineKNN_all_movies(self, user_profile, k):\n",
    "        \n",
    "        nbrs = NearestNeighbors(metric='cosine', algorithm='brute')\n",
    "        nbrs.fit(self.movies_vectors)\n",
    "        pickle.dump(nbrs, open('cosineKNN.dat', 'wb'))\n",
    "        return self.dataset_handler.indices2ids(nbrs.kneighbors(np.array([user_profile]), k, return_distance=False)[0])\n",
    "    \n",
    "    def _cosineKNN_movies_subset(self, movies_subset, movieId, k):\n",
    "        nbrs = NearestNeighbors(k, metric='cosine', algorithm='brute')\n",
    "        movies_with_ids = np.array([\n",
    "            np.hstack([[watched_movie], self.movies_vectors[self.dataset_handler.id2index(watched_movie)]])\n",
    "            for watched_movie in movies_subset\n",
    "        ])\n",
    "        nbrs.fit(movies_with_ids[:, 1:])\n",
    "        return movies_with_ids[\n",
    "            nbrs.kneighbors(\n",
    "                np.array([self.movies_vectors[self.dataset_handler.id2index(movieId)]]), return_distance=False\n",
    "            )[0],\n",
    "            0\n",
    "        ]"
   ]
  },
  {
   "cell_type": "code",
   "execution_count": 13,
   "metadata": {
    "collapsed": false
   },
   "outputs": [
    {
     "name": "stdout",
     "output_type": "stream",
     "text": [
      "User favourite genre: Drama\n",
      "User ratings:\n",
      "Men in Black (1997) ['Action', 'Adventure', 'Comedy', 'Sci-Fi']: 2\n",
      "Contact (1997) ['Drama', 'Sci-Fi']: 5\n",
      "Boot, Das (1981) ['Action', 'Drama', 'War']: 5\n",
      "Toy Story (1995) ['Animation', 'Children', 'Comedy']: 4\n",
      "Dead Man Walking (1995) ['Drama']: 4\n",
      "Mr. Holland's Opus (1995) ['Drama']: 4\n",
      "Ghost and the Darkness, The (1996) ['Action', 'Adventure']: 3\n",
      "Mission: Impossible (1996) ['Action', 'Adventure', 'Mystery']: 4\n",
      "Birdcage, The (1996) ['Comedy']: 5\n",
      "Time to Kill, A (1996) ['Drama']: 4\n",
      "White Squall (1996) ['Adventure', 'Drama']: 4\n",
      "English Patient, The (1996) ['Drama', 'Romance', 'War']: 5\n",
      "Broken Arrow (1996) ['Action', 'Thriller']: 2\n",
      "Star Wars (1977) ['Action', 'Adventure', 'Romance', 'Sci-Fi', 'War']: 4\n",
      "Daylight (1996) ['Action', 'Adventure', 'Thriller']: 2\n",
      "Devil's Own, The (1997) ['Action', 'Drama', 'Thriller', 'War']: 3\n",
      "Ransom (1996) ['Drama', 'Thriller']: 4\n",
      "Michael Collins (1996) ['Drama', 'War']: 4\n",
      "People vs. Larry Flynt, The (1996) ['Drama']: 2\n",
      "Jerry Maguire (1996) ['Drama', 'Romance']: 3\n",
      "Rock, The (1996) ['Action', 'Adventure', 'Thriller']: 3\n",
      "Twister (1996) ['Action', 'Adventure', 'Thriller']: 2\n",
      "Independence Day (ID4) (1996) ['Action', 'Sci-Fi', 'War']: 4\n",
      "Lost World: Jurassic Park, The (1997) ['Action', 'Adventure', 'Sci-Fi', 'Thriller']: 3\n",
      "Phenomenon (1996) ['Drama', 'Romance']: 4\n",
      "Godfather, The (1972) ['Action', 'Crime', 'Drama']: 4\n",
      "--- Pre-processing time is 0.151253938675 seconds ---\n"
     ]
    }
   ],
   "source": [
    "test_time = time.time()\n",
    "recommender = ContentBasedRecommender(dataset_handler)\n",
    "user_profile = recommender.create_user_profile(user_ratings[120]) #create user profile for user id= 120\n",
    "recommender.present_user_profile(user_profile)\n",
    "print(\"--- Pre-processing time is %s seconds ---\" % (time.time() - test_time))"
   ]
  },
  {
   "cell_type": "code",
   "execution_count": 14,
   "metadata": {
    "collapsed": false
   },
   "outputs": [
    {
     "name": "stdout",
     "output_type": "stream",
     "text": [
      "[[0 0 1 ..., 0 0 0]\n",
      " [1 1 0 ..., 1 0 0]\n",
      " [0 0 0 ..., 1 0 0]\n",
      " ..., \n",
      " [0 0 0 ..., 0 0 0]\n",
      " [0 0 0 ..., 0 0 0]\n",
      " [0 0 0 ..., 0 0 0]]\n",
      "Recommended movies:\n",
      "Empire Strikes Back, The (1980) ['Action', 'Adventure', 'Drama', 'Romance', 'Sci-Fi', 'War']\n",
      "Ben-Hur (1959) ['Action', 'Adventure', 'Drama']\n",
      "Devil's Own, The (1997) ['Action', 'Drama', 'Thriller', 'War']\n",
      "Braveheart (1995) ['Action', 'Drama', 'War']\n",
      "Glory (1989) ['Action', 'Drama', 'War']\n",
      "G.I. Jane (1997) ['Action', 'Drama', 'War']\n",
      "Full Metal Jacket (1987) ['Action', 'Drama', 'War']\n",
      "Boot, Das (1981) ['Action', 'Drama', 'War']\n",
      "Heaven & Earth (1993) ['Action', 'Drama', 'War']\n",
      "First Knight (1995) ['Action', 'Adventure', 'Drama', 'Romance']\n",
      "Crying Game, The (1992) ['Action', 'Drama', 'Romance', 'War']\n",
      "Men of Means (1998) ['Action', 'Drama']\n",
      "Marked for Death (1990) ['Action', 'Drama']\n",
      "Romper Stomper (1992) ['Action', 'Drama']\n",
      "Perfect World, A (1993) ['Action', 'Drama']\n",
      "Program, The (1993) ['Action', 'Drama']\n",
      "Target (1995) ['Action', 'Drama']\n",
      "Tokyo Fist (1995) ['Action', 'Drama']\n",
      "Men With Guns (1997) ['Action', 'Drama']\n",
      "Palookaville (1996) ['Action', 'Drama']\n",
      "Johnny 100 Pesos (1993) ['Action', 'Drama']\n",
      "Mad City (1997) ['Action', 'Drama']\n",
      "Smilla's Sense of Snow (1997) ['Action', 'Drama', 'Thriller']\n",
      "Apollo 13 (1995) ['Action', 'Drama', 'Thriller']\n",
      "Mercury Rising (1998) ['Action', 'Drama', 'Thriller']\n",
      "Outbreak (1995) ['Action', 'Drama', 'Thriller']\n",
      "Tough and Deadly (1995) ['Action', 'Drama', 'Thriller']\n",
      "Hostile Intentions (1994) ['Action', 'Drama', 'Thriller']\n",
      "Fire Down Below (1997) ['Action', 'Drama', 'Thriller']\n",
      "Condition Red (1995) ['Action', 'Drama', 'Thriller']\n",
      "Titanic (1997) ['Action', 'Drama', 'Romance']\n",
      "Man in the Iron Mask, The (1998) ['Action', 'Drama', 'Romance']\n",
      "Cyrano de Bergerac (1990) ['Action', 'Drama', 'Romance']\n",
      "Batman (1989) ['Action', 'Adventure', 'Crime', 'Drama']\n",
      "Get Shorty (1995) ['Action', 'Comedy', 'Drama']\n",
      "Faster Pussycat! Kill! Kill! (1965) ['Action', 'Comedy', 'Drama']\n",
      "Diva (1981) ['Action', 'Drama', 'Mystery', 'Romance', 'Thriller']\n",
      "War, The (1994) ['Adventure', 'Drama']\n",
      "Old Man and the Sea, The (1958) ['Adventure', 'Drama']\n",
      "White Squall (1996) ['Adventure', 'Drama']\n",
      "--- Test time is 0.0330440998077 seconds ---\n"
     ]
    }
   ],
   "source": [
    "test_time = time.time()\n",
    "top = recommender.top(user_profile, topN=40)\n",
    "recommender.present_recommendations(top) #recommendations for user\n",
    "print(\"--- Test time is %s seconds ---\" % (time.time() - test_time))"
   ]
  }
 ],
 "metadata": {
  "kernelspec": {
   "display_name": "Python 2",
   "language": "python",
   "name": "python2"
  },
  "language_info": {
   "codemirror_mode": {
    "name": "ipython",
    "version": 2
   },
   "file_extension": ".py",
   "mimetype": "text/x-python",
   "name": "python",
   "nbconvert_exporter": "python",
   "pygments_lexer": "ipython2",
   "version": "2.7.11"
  }
 },
 "nbformat": 4,
 "nbformat_minor": 0
}
