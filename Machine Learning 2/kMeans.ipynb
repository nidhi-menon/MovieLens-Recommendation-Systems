{
 "cells": [
  {
   "cell_type": "code",
   "execution_count": 1,
   "metadata": {
    "collapsed": false
   },
   "outputs": [],
   "source": [
    "import numpy as np\n",
    "import pandas as pd\n",
    "from sklearn.cluster import KMeans\n",
    "from sklearn.cross_validation import train_test_split\n",
    "from sklearn import preprocessing\n",
    "from sklearn.metrics import accuracy_score\n",
    "from sklearn.ensemble import BaggingClassifier\n",
    "from sklearn.ensemble import RandomForestClassifier\n",
    "from sklearn.cross_validation import KFold\n",
    "import time\n",
    "import pickle\n",
    "import sys\n",
    "import matplotlib.pyplot as plt\n",
    "from scipy.spatial.distance import cdist\n",
    "%matplotlib inline\n",
    "from sklearn.metrics import silhouette_samples, silhouette_score"
   ]
  },
  {
   "cell_type": "code",
   "execution_count": 2,
   "metadata": {
    "collapsed": false
   },
   "outputs": [
    {
     "name": "stdout",
     "output_type": "stream",
     "text": [
      "/Users/snehavenkat/Desktop/BDS/ml-100k\n"
     ]
    }
   ],
   "source": [
    "cd '/Users/snehavenkat/Desktop/BDS/ml-100k'"
   ]
  },
  {
   "cell_type": "code",
   "execution_count": 3,
   "metadata": {
    "collapsed": false
   },
   "outputs": [],
   "source": [
    "#-- Data Preprocessing -1 --\n",
    "items = pd.read_csv(\"u.item\",sep='|',names=['Movie.ID','Name','release_date','video_release_date','IMDb_URL','unknown','Action','Adventure','Animation','Children','Comedy','Crime','Documentary','Drama','Fantasy',\n",
    "              'Film-Noir','Horror','Musical','Mystery','Romance','Sci-Fi',\n",
    "              'Thriller','War','Western'],index_col=0) # movies information\n",
    "items = items.drop(['release_date','video_release_date','IMDb_URL','unknown'],axis=1)\n",
    "genre = pd.read_csv(\"u.genre\",names=['Genre','ID'],sep='|') # movie genre information"
   ]
  },
  {
   "cell_type": "code",
   "execution_count": 4,
   "metadata": {
    "collapsed": true
   },
   "outputs": [],
   "source": [
    "#-- Data Preprocessing -2 ---\n",
    "rate = pd.read_csv(\"u.data\",sep='\\t',names=['userId','movieId','rating','timestamp'],index_col='userId')\n",
    "rate = rate[rate.movieId != 267]\n",
    "rate = rate[rate.movieId != 1373]\n",
    "rate = rate.sort_index()\n",
    "ratings = pd.DataFrame(index=np.unique(rate.index.values),columns=[x for x in range(1,1683)])\n",
    "ratings = ratings.fillna(0)\n",
    "for index,row in rate.iterrows():\n",
    "    ratings.loc[index,row['movieId']] = row['rating']"
   ]
  },
  {
   "cell_type": "code",
   "execution_count": 5,
   "metadata": {
    "collapsed": false
   },
   "outputs": [
    {
     "name": "stdout",
     "output_type": "stream",
     "text": [
      "--- Train time is 1.46183300018 seconds ---\n"
     ]
    }
   ],
   "source": [
    "test_time = time.time()\n",
    "kmeans = KMeans(n_clusters=4)\n",
    "kmeans.fit(ratings,)\n",
    "# pp = pickle.dumps(kmeans)\n",
    "# print(sys.getsizeof(pp)) #-- Saving the model\n",
    "print(\"--- Train time is %s seconds ---\" % (time.time() - test_time)) #Calculating Train time"
   ]
  },
  {
   "cell_type": "code",
   "execution_count": 6,
   "metadata": {
    "collapsed": true
   },
   "outputs": [],
   "source": [
    "labels = kmeans.labels_#labels\n",
    "centroids = kmeans.cluster_centers_#cluster centers"
   ]
  },
  {
   "cell_type": "code",
   "execution_count": 7,
   "metadata": {
    "collapsed": false
   },
   "outputs": [
    {
     "name": "stdout",
     "output_type": "stream",
     "text": [
      "('Sil score: ', 0.23427817069118068)\n",
      "&quot;For number of clusters: &quot; 2 &quot; average sil score:&quot; 0.234278170691\n",
      "('Sil score: ', 0.14701197951948272)\n",
      "&quot;For number of clusters: &quot; 3 &quot; average sil score:&quot; 0.147011979519\n",
      "('Sil score: ', 0.13141090928109175)\n",
      "&quot;For number of clusters: &quot; 4 &quot; average sil score:&quot; 0.131410909281\n",
      "('Sil score: ', 0.020106295083060728)\n",
      "&quot;For number of clusters: &quot; 5 &quot; average sil score:&quot; 0.0201062950831\n",
      "('Sil score: ', 0.022359759896208045)\n",
      "&quot;For number of clusters: &quot; 6 &quot; average sil score:&quot; 0.0223597598962\n",
      "('Sil score: ', 0.0015693545970040252)\n",
      "&quot;For number of clusters: &quot; 7 &quot; average sil score:&quot; 0.001569354597\n",
      "('Sil score: ', 0.022195664464648195)\n",
      "&quot;For number of clusters: &quot; 8 &quot; average sil score:&quot; 0.0221956644646\n",
      "('Sil score: ', 0.02101694634924433)\n",
      "&quot;For number of clusters: &quot; 9 &quot; average sil score:&quot; 0.0210169463492\n",
      "('Sil score: ', -0.016447647422055327)\n",
      "&quot;For number of clusters: &quot; 10 &quot; average sil score:&quot; -0.0164476474221\n"
     ]
    }
   ],
   "source": [
    "# k means determine k\n",
    "distortions = []\n",
    "K = range(2,11)\n",
    "for k in K:\n",
    "    kmeanModel = KMeans(n_clusters=k).fit(ratings,)\n",
    "    kmeanModel.fit(ratings,)\n",
    "    cluster = kmeanModel.labels_#labels\n",
    "    sil_avg = silhouette_score(ratings, cluster)\n",
    "    print(\"Sil score: \",sil_avg)\n",
    "    print \"&quot;For number of clusters: &quot;\",str(k),\"&quot; average sil score:&quot;\",str(sil_avg)\n",
    "    # Compute the silhouette scores for each sample\n",
    "    sample_silhouette_values = silhouette_samples(ratings, cluster)\n",
    "#     distortions.append(sum(np.min(cdist(ratings, kmeanModel.cluster_centers_, 'euclidean'), axis=1)) / ratings.shape[0])\n",
    "\n",
    "# ---- Plot the elbow ---\n",
    "# plt.plot(K, distortions, 'bx-')\n",
    "# plt.xlabel('k')\n",
    "# plt.ylabel('Distortion')\n",
    "# plt.title('The Elbow Method showing the optimal k')\n",
    "# plt.show()"
   ]
  },
  {
   "cell_type": "code",
   "execution_count": 8,
   "metadata": {
    "collapsed": false
   },
   "outputs": [
    {
     "data": {
      "text/html": [
       "<div>\n",
       "<table border=\"1\" class=\"dataframe\">\n",
       "  <thead>\n",
       "    <tr style=\"text-align: right;\">\n",
       "      <th></th>\n",
       "      <th>0</th>\n",
       "      <th>1</th>\n",
       "      <th>2</th>\n",
       "      <th>3</th>\n",
       "      <th>4</th>\n",
       "      <th>5</th>\n",
       "      <th>6</th>\n",
       "      <th>7</th>\n",
       "      <th>8</th>\n",
       "      <th>9</th>\n",
       "      <th>...</th>\n",
       "      <th>1672</th>\n",
       "      <th>1673</th>\n",
       "      <th>1674</th>\n",
       "      <th>1675</th>\n",
       "      <th>1676</th>\n",
       "      <th>1677</th>\n",
       "      <th>1678</th>\n",
       "      <th>1679</th>\n",
       "      <th>1680</th>\n",
       "      <th>1681</th>\n",
       "    </tr>\n",
       "  </thead>\n",
       "  <tbody>\n",
       "    <tr>\n",
       "      <th>0</th>\n",
       "      <td>2.461538</td>\n",
       "      <td>0.723077</td>\n",
       "      <td>0.538462</td>\n",
       "      <td>2.538462</td>\n",
       "      <td>0.415385</td>\n",
       "      <td>0.507692</td>\n",
       "      <td>2.753846</td>\n",
       "      <td>2.815385</td>\n",
       "      <td>2.707692</td>\n",
       "      <td>1.569231</td>\n",
       "      <td>...</td>\n",
       "      <td>2.168404e-18</td>\n",
       "      <td>6.153846e-02</td>\n",
       "      <td>2.168404e-18</td>\n",
       "      <td>2.602085e-18</td>\n",
       "      <td>2.168404e-18</td>\n",
       "      <td>1.301043e-18</td>\n",
       "      <td>2.168404e-18</td>\n",
       "      <td>2.602085e-18</td>\n",
       "      <td>2.168404e-18</td>\n",
       "      <td>2.168404e-18</td>\n",
       "    </tr>\n",
       "    <tr>\n",
       "      <th>1</th>\n",
       "      <td>3.628866</td>\n",
       "      <td>2.237113</td>\n",
       "      <td>1.103093</td>\n",
       "      <td>2.721649</td>\n",
       "      <td>1.402062</td>\n",
       "      <td>0.051546</td>\n",
       "      <td>3.144330</td>\n",
       "      <td>2.319588</td>\n",
       "      <td>2.072165</td>\n",
       "      <td>0.618557</td>\n",
       "      <td>...</td>\n",
       "      <td>3.903128e-18</td>\n",
       "      <td>6.938894e-18</td>\n",
       "      <td>3.903128e-18</td>\n",
       "      <td>3.469447e-18</td>\n",
       "      <td>3.903128e-18</td>\n",
       "      <td>1.734723e-18</td>\n",
       "      <td>3.903128e-18</td>\n",
       "      <td>3.469447e-18</td>\n",
       "      <td>3.092784e-02</td>\n",
       "      <td>3.092784e-02</td>\n",
       "    </tr>\n",
       "    <tr>\n",
       "      <th>2</th>\n",
       "      <td>2.342857</td>\n",
       "      <td>0.587755</td>\n",
       "      <td>0.240816</td>\n",
       "      <td>1.167347</td>\n",
       "      <td>0.293878</td>\n",
       "      <td>0.044898</td>\n",
       "      <td>1.848980</td>\n",
       "      <td>1.514286</td>\n",
       "      <td>1.204082</td>\n",
       "      <td>0.224490</td>\n",
       "      <td>...</td>\n",
       "      <td>1.224490e-02</td>\n",
       "      <td>9.540979e-18</td>\n",
       "      <td>1.224490e-02</td>\n",
       "      <td>8.163265e-03</td>\n",
       "      <td>1.224490e-02</td>\n",
       "      <td>2.385245e-18</td>\n",
       "      <td>-1.301043e-17</td>\n",
       "      <td>4.770490e-18</td>\n",
       "      <td>-1.301043e-17</td>\n",
       "      <td>-1.301043e-17</td>\n",
       "    </tr>\n",
       "    <tr>\n",
       "      <th>3</th>\n",
       "      <td>1.242086</td>\n",
       "      <td>0.022346</td>\n",
       "      <td>0.134078</td>\n",
       "      <td>0.050279</td>\n",
       "      <td>0.091248</td>\n",
       "      <td>0.081937</td>\n",
       "      <td>1.027933</td>\n",
       "      <td>0.178771</td>\n",
       "      <td>0.918063</td>\n",
       "      <td>0.230912</td>\n",
       "      <td>...</td>\n",
       "      <td>1.474515e-17</td>\n",
       "      <td>-1.647987e-17</td>\n",
       "      <td>1.474515e-17</td>\n",
       "      <td>-8.239937e-18</td>\n",
       "      <td>1.474515e-17</td>\n",
       "      <td>1.862197e-03</td>\n",
       "      <td>5.586592e-03</td>\n",
       "      <td>3.724395e-03</td>\n",
       "      <td>1.474515e-17</td>\n",
       "      <td>1.474515e-17</td>\n",
       "    </tr>\n",
       "  </tbody>\n",
       "</table>\n",
       "<p>4 rows × 1682 columns</p>\n",
       "</div>"
      ],
      "text/plain": [
       "       0         1         2         3         4         5         6     \\\n",
       "0  2.461538  0.723077  0.538462  2.538462  0.415385  0.507692  2.753846   \n",
       "1  3.628866  2.237113  1.103093  2.721649  1.402062  0.051546  3.144330   \n",
       "2  2.342857  0.587755  0.240816  1.167347  0.293878  0.044898  1.848980   \n",
       "3  1.242086  0.022346  0.134078  0.050279  0.091248  0.081937  1.027933   \n",
       "\n",
       "       7         8         9         ...               1672          1673  \\\n",
       "0  2.815385  2.707692  1.569231      ...       2.168404e-18  6.153846e-02   \n",
       "1  2.319588  2.072165  0.618557      ...       3.903128e-18  6.938894e-18   \n",
       "2  1.514286  1.204082  0.224490      ...       1.224490e-02  9.540979e-18   \n",
       "3  0.178771  0.918063  0.230912      ...       1.474515e-17 -1.647987e-17   \n",
       "\n",
       "           1674          1675          1676          1677          1678  \\\n",
       "0  2.168404e-18  2.602085e-18  2.168404e-18  1.301043e-18  2.168404e-18   \n",
       "1  3.903128e-18  3.469447e-18  3.903128e-18  1.734723e-18  3.903128e-18   \n",
       "2  1.224490e-02  8.163265e-03  1.224490e-02  2.385245e-18 -1.301043e-17   \n",
       "3  1.474515e-17 -8.239937e-18  1.474515e-17  1.862197e-03  5.586592e-03   \n",
       "\n",
       "           1679          1680          1681  \n",
       "0  2.602085e-18  2.168404e-18  2.168404e-18  \n",
       "1  3.469447e-18  3.092784e-02  3.092784e-02  \n",
       "2  4.770490e-18 -1.301043e-17 -1.301043e-17  \n",
       "3  3.724395e-03  1.474515e-17  1.474515e-17  \n",
       "\n",
       "[4 rows x 1682 columns]"
      ]
     },
     "execution_count": 8,
     "metadata": {},
     "output_type": "execute_result"
    }
   ],
   "source": [
    "pd.set_option('display.max_rows', ratings.describe().shape[1])\n",
    "pd.DataFrame(centroids)"
   ]
  },
  {
   "cell_type": "code",
   "execution_count": 9,
   "metadata": {
    "collapsed": true
   },
   "outputs": [],
   "source": [
    "#-- Inputs for determinging top rated movies -- \n",
    "movie_names = items.Name\n",
    "genre_types = items.columns[1:]\n",
    "items_array = np.array(items)#user rating and movie title info\n",
    "movie_genre = np.array(items[genre_types])"
   ]
  },
  {
   "cell_type": "code",
   "execution_count": 10,
   "metadata": {
    "collapsed": true
   },
   "outputs": [],
   "source": [
    "def FiveStarMovies(centroids, labels, k, NTerms):\n",
    "    five_star_movies = []\n",
    "    cluster_movies = []\n",
    "    for i in range(k):#k is no. of clusters\n",
    "        cluster_members = ratings[labels==i]#get the members of the ith cluster\n",
    "        print 'cluster',i+1,'size: ', cluster_members.shape[0]#get the number of members in the ith cluster\n",
    "        movie_total_rating = np.array(cluster_members.sum(0)).astype(float)#total ratings for all movies in the ith cluster\n",
    "        #print(movie_total_rating)\n",
    "        movie_rating_count = np.array((cluster_members!=0).sum(0)).astype(float)#total no. of users who rated the movies\n",
    "        movie_average_rating = np.divide(movie_total_rating, movie_rating_count)#average ratings of all movies\n",
    "        movie_average_rating[np.isnan(movie_average_rating)] = 0\n",
    "        rated_movie_list = sorted(zip(movie_names, movie_average_rating), key=lambda x: int(x[1]), reverse=True)\n",
    "        to_append = []\n",
    "        cluster_append = []\n",
    "        for j in rated_movie_list:#for each movie\n",
    "            if j[1] == 5:#if avg rating is highest\n",
    "                to_append.append(j[0])#append highest rated movies\n",
    "            if j[1] != 0:\n",
    "                cluster_append.append(j[0])#all movie average ratings which are rated\n",
    "        five_star_movies.append(to_append)#highest rated movies in that cluster\n",
    "        cluster_movies.append(cluster_append)#all movie average ratings which are rated\n",
    "    print \"\\n\"\n",
    "    # most rated movies in each cluster\n",
    "    k = 0\n",
    "    for m in five_star_movies:#for each highly rated movie\n",
    "        prototype = list(np.zeros(len(genre_types)))#placeholders for each genre: fill with 0s\n",
    "        for n in items_array:#user rating and movie title info    \n",
    "            for i in m:\n",
    "                if i == n[0]:#5 star movie title?\n",
    "                    prototype += n[1:]#increment genre of that movie\n",
    "        print \"Representative Movies for \",k+1,\":\"\n",
    "        for i in range(5):\n",
    "            print m[i]#print highly rated movies\n",
    "        print \"\\n\"\n",
    "        prototype = map(int, prototype)\n",
    "        movie_genre_to_use = sorted(zip(genre_types, prototype), key=lambda x:int(x[1]), reverse=True)#types of genres and placeholder count array\n",
    "        print \"Cluster\", k+1, \"top genre: \"\n",
    "        for i in movie_genre_to_use[:NTerms]:#print top rated genres in each cluster\n",
    "            print i[0]\n",
    "        print \"\\n\"\n",
    "        k += 1\n",
    "    return five_star_movies, cluster_movies"
   ]
  },
  {
   "cell_type": "code",
   "execution_count": 11,
   "metadata": {
    "collapsed": false
   },
   "outputs": [
    {
     "name": "stdout",
     "output_type": "stream",
     "text": [
      "cluster 1 size:  65\n",
      "cluster 2 size:  97\n",
      "cluster 3 size:  245\n",
      "cluster 4 size:  537\n",
      "\n",
      "\n",
      "Representative Movies for  1 :\n",
      "Stalingrad (1993)\n",
      "Baby-Sitters Club, The (1995)\n",
      "Timecop (1994)\n",
      "Great Day in Harlem, A (1994)\n",
      "Two or Three Things I Know About Her (1966)\n",
      "\n",
      "\n",
      "Cluster 1 top genre: \n",
      "Drama\n",
      "Comedy\n",
      "Action\n",
      "Animation\n",
      "Documentary\n",
      "\n",
      "\n",
      "Representative Movies for  2 :\n",
      "Shanghai Triad (Yao a yao yao dao waipo qiao) (1995)\n",
      "Maya Lin: A Strong Clear Vision (1994)\n",
      "Deceiver (1997)\n",
      "Meet John Doe (1941)\n",
      "Telling Lies in America (1997)\n",
      "\n",
      "\n",
      "Cluster 2 top genre: \n",
      "Drama\n",
      "Crime\n",
      "Comedy\n",
      "Documentary\n",
      "Romance\n",
      "\n",
      "\n",
      "Representative Movies for  3 :\n",
      "Maya Lin: A Strong Clear Vision (1994)\n",
      "Turbo: A Power Rangers Movie (1997)\n",
      "Perfect Candidate, A (1996)\n",
      "Washington Square (1997)\n",
      "Winter Guest, The (1997)\n",
      "\n",
      "\n",
      "Cluster 3 top genre: \n",
      "Drama\n",
      "Comedy\n",
      "Action\n",
      "Documentary\n",
      "Sci-Fi\n",
      "\n",
      "\n",
      "Representative Movies for  4 :\n",
      "Faster Pussycat! Kill! Kill! (1965)\n",
      "Aristocats, The (1970)\n",
      "D3: The Mighty Ducks (1996)\n",
      "Vanya on 42nd Street (1994)\n",
      "Down by Law (1986)\n",
      "\n",
      "\n",
      "Cluster 4 top genre: \n",
      "Drama\n",
      "Comedy\n",
      "Children\n",
      "Adventure\n",
      "Animation\n",
      "\n",
      "\n",
      "--- Test time is 0.0594508647919 seconds ---\n"
     ]
    }
   ],
   "source": [
    "#Calculate test time\n",
    "test_time = time.time()\n",
    "five_star_movies, cluster_movies = FiveStarMovies(centroids, labels, 4, 5)\n",
    "print(\"--- Test time is %s seconds ---\" % (time.time() - test_time))"
   ]
  }
 ],
 "metadata": {
  "kernelspec": {
   "display_name": "Python 2",
   "language": "python",
   "name": "python2"
  },
  "language_info": {
   "codemirror_mode": {
    "name": "ipython",
    "version": 2
   },
   "file_extension": ".py",
   "mimetype": "text/x-python",
   "name": "python",
   "nbconvert_exporter": "python",
   "pygments_lexer": "ipython2",
   "version": "2.7.11"
  }
 },
 "nbformat": 4,
 "nbformat_minor": 0
}
